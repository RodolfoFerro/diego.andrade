{
 "cells": [
  {
   "cell_type": "code",
   "execution_count": 20,
   "metadata": {
    "collapsed": true
   },
   "outputs": [],
   "source": [
    "# We import our libs:\n",
    "import numpy as np\n",
    "import matplotlib.pyplot as plt\n",
    "from mpl_toolkits.mplot3d import Axes3D\n",
    "%matplotlib inline"
   ]
  },
  {
   "cell_type": "code",
   "execution_count": 47,
   "metadata": {
    "collapsed": false
   },
   "outputs": [
    {
     "name": "stdout",
     "output_type": "stream",
     "text": [
      "Introduce a: 0\n",
      "Introduce b: 1087763\n",
      "Introduce N: 1087763\n",
      "Introduce mass 1: 2\n",
      "Introduce mass 2: 2\n",
      "Introduce mass 3: 2\n",
      "Introduce G: 6.673e-11\n",
      "Introduce position vector 1:\n",
      "-1\n",
      "0\n",
      "0\n",
      "Introduce position vector 2:\n",
      "1\n",
      "0\n",
      "0\n",
      "Introduce position vector 3:\n",
      "0\n",
      "0\n",
      "0\n",
      "Introduce velocity vector 1:\n",
      "0\n",
      "-5.775e-6\n",
      "0\n",
      "Introduce velocity vector 2:\n",
      "0\n",
      "-5.775e-6\n",
      "0\n",
      "Introduce velocity vector 3:\n",
      "0\n",
      "0\n",
      "0\n",
      "a: 0.0\n",
      "b: 1087763.0\n",
      "N: 1087763.0\n",
      "h: 1.0\n",
      "Position vector r1: [-1.  0.  0.]\n",
      "Position vector v1: [  0.00000000e+00  -5.77500000e-06   0.00000000e+00]\n",
      "Position vector r2: [ 1.  0.  0.]\n",
      "Position vector v2: [  0.00000000e+00  -5.77500000e-06   0.00000000e+00]\n",
      "Position vector r3: [ 0.  0.  0.]\n",
      "Position vector v3: [ 0.  0.  0.]\n"
     ]
    }
   ],
   "source": [
    "# Constants input:\n",
    "a = float(input(\"Introduce a: \"))\n",
    "b = float(input(\"Introduce b: \"))\n",
    "N = float(input(\"Introduce N: \"))\n",
    "m1 = float(input(\"Introduce mass 1: \"))\n",
    "m2 = float(input(\"Introduce mass 2: \"))\n",
    "m3 = float(input(\"Introduce mass 3: \"))\n",
    "G = float(input(\"Introduce G: \"))\n",
    "\n",
    "# Vectors input:\n",
    "r = []\n",
    "v = []\n",
    "print(\"Introduce position vector 1:\")\n",
    "r.append(np.array([float(input()) for i in range(3)]))\n",
    "print(\"Introduce position vector 2:\")\n",
    "r.append(np.array([float(input()) for i in range(3)]))\n",
    "print(\"Introduce position vector 3:\")\n",
    "r.append(np.array([float(input()) for i in range(3)]))\n",
    "print(\"Introduce velocity vector 1:\")\n",
    "v.append(np.array([float(input()) for i in range(3)]))\n",
    "print(\"Introduce velocity vector 2:\")\n",
    "v.append(np.array([float(input()) for i in range(3)]))\n",
    "print(\"Introduce velocity vector 3:\")\n",
    "v.append(np.array([float(input()) for i in range(3)]))\n",
    "\n",
    "r = np.array(r)\n",
    "v = np.array(v)\n",
    "\n",
    "# Set constants:\n",
    "h = (b - a) / N\n",
    "\n",
    "# Print constants:\n",
    "print(\"a: {}\".format(a))\n",
    "print(\"b: {}\".format(b))\n",
    "print(\"N: {}\".format(N))\n",
    "print(\"h: {}\".format(h))\n",
    "\n",
    "# Print vectors:\n",
    "for i in range(3):\n",
    "    print(\"Position vector r{}: {}\".format(i+1, r[i]))\n",
    "    print(\"Position vector v{}: {}\".format(i+1, v[i]))"
   ]
  },
  {
   "cell_type": "code",
   "execution_count": 48,
   "metadata": {
    "collapsed": false
   },
   "outputs": [],
   "source": [
    "def f(r1, r2, r3, m2, m3):\n",
    "    return -G * ((m2 * (r1 - r2) / np.linalg.norm((r1 - r2))**3) + (m3 * (r1 - r3) / np.linalg.norm((r1 - r3))**3))"
   ]
  },
  {
   "cell_type": "code",
   "execution_count": 49,
   "metadata": {
    "collapsed": false
   },
   "outputs": [],
   "source": [
    "def Runge_Kutta(f, r, v):\n",
    "    R1 = [r[0]]\n",
    "    R2 = [r[1]]\n",
    "    R3 = [r[2]]\n",
    "    V1 = [v[0]]\n",
    "    V2 = [v[1]]\n",
    "    V3 = [v[2]]\n",
    "    for i in range(int(N)):\n",
    "        \n",
    "        ### r1 vector:\n",
    "        k1_r1_x = h * V1[i][0]\n",
    "        k1_r1_y = h * V1[i][1]\n",
    "        k1_r1_z = h * V1[i][2]\n",
    "\n",
    "        l1_r1 = h * f(R1[i], R2[i], R3[i], m2, m3)\n",
    "\n",
    "        k2_r1_x = h * (V1[i][0] + 0.5*l1_r1[0])\n",
    "        k2_r1_y = h * (V1[i][1] + 0.5*l1_r1[1])\n",
    "        k2_r1_z = h * (V1[i][2] + 0.5*l1_r1[2])\n",
    "\n",
    "        l2_r1 = h * f(R1[i] + 0.5*k1_r1_x, R2[i] + 0.5*k1_r1_y, R3[i] + 0.5*k1_r1_z, m2, m3)\n",
    "\n",
    "        k3_r1_x = h * (V1[i][0] + 0.5*l2_r1[0])\n",
    "        k3_r1_y = h * (V1[i][1] + 0.5*l2_r1[1])\n",
    "        k3_r1_z = h * (V1[i][2] + 0.5*l2_r1[2])\n",
    "\n",
    "        l3_r1 = h * f(R1[i] + 0.5*k2_r1_x, R2[i] + 0.5*k2_r1_y, R3[i] + 0.5*k2_r1_z, m2, m3)\n",
    "\n",
    "        k4_r1_x = h * (V1[i][0] + l3_r1[0])\n",
    "        k4_r1_y = h * (V1[i][1] + l3_r1[1])\n",
    "        k4_r1_z = h * (V1[i][2] + l3_r1[2])\n",
    "\n",
    "        l4_r1 = h * f(R1[i] + k3_r1_x, R2[i] + k3_r1_y, R3[i] + k3_r1_z, m2, m3)\n",
    "\n",
    "\n",
    "        ### r2 vector:\n",
    "        k1_r2_x = h * V2[i][0]\n",
    "        k1_r2_y = h * V2[i][1]\n",
    "        k1_r2_z = h * V2[i][2]\n",
    "\n",
    "        l1_r2 = h * f(R2[i], R1[i], R3[i], m1, m3)\n",
    "\n",
    "        k2_r2_x = h * (V2[i][0] + 0.5*l1_r2[0])\n",
    "        k2_r2_y = h * (V2[i][1] + 0.5*l1_r2[1])\n",
    "        k2_r2_z = h * (V2[i][2] + 0.5*l1_r2[2])\n",
    "\n",
    "        l2_r2 = h * f(R2[i] + 0.5*k1_r2_y, R1[i] + 0.5*k1_r2_x, R3[i] + 0.5*k1_r2_z, m1, m3)\n",
    "\n",
    "        k3_r2_x = h * (V2[i][0] + 0.5*l2_r2[0])\n",
    "        k3_r2_y = h * (V2[i][1] + 0.5*l2_r2[1])\n",
    "        k3_r2_z = h * (V2[i][2] + 0.5*l2_r2[2])\n",
    "\n",
    "        l3_r2 = h * f(r[1] + 0.5*k2_r2_y, R1[i] + 0.5*k2_r2_x, R3[i] + 0.5*k2_r2_z, m1, m3)\n",
    "\n",
    "        k4_r2_x = h * (V2[i][0] + l3_r2[0])\n",
    "        k4_r2_y = h * (V2[i][1] + l3_r2[1])\n",
    "        k4_r2_z = h * (V2[i][2] + l3_r2[2])\n",
    "\n",
    "        l4_r2 = h * f(R2[i] + k3_r2_y, R1[i] + k3_r2_x, R3[i] + k3_r2_z, m1, m3)\n",
    "\n",
    "\n",
    "        ### r3 vector:\n",
    "        k1_r3_x = h * V3[i][0]\n",
    "        k1_r3_y = h * V3[i][1]\n",
    "        k1_r3_z = h * V3[i][2]\n",
    "\n",
    "        l1_r3 = h * f(R3[i], R1[i], R2[i], m1, m2)\n",
    "\n",
    "        k2_r3_x = h * (V3[i][0] + 0.5*l1_r3[0])\n",
    "        k2_r3_y = h * (V3[i][1] + 0.5*l1_r3[1])\n",
    "        k2_r3_z = h * (V3[i][2] + 0.5*l1_r3[2])\n",
    "\n",
    "        l2_r3 = h * f(R3[i] + 0.5*k1_r3_z, R1[i] + 0.5*k1_r3_x, R2[i] + 0.5*k1_r3_y, m1, m2)\n",
    "\n",
    "        k3_r3_x = h * (V3[i][0] + 0.5*l2_r3[0])\n",
    "        k3_r3_y = h * (V3[i][1] + 0.5*l2_r3[1])\n",
    "        k3_r3_z = h * (V3[i][2] + 0.5*l2_r3[2])\n",
    "\n",
    "        l3_r3 = h * f(r[2] + 0.5*k2_r3_z, R1[i] + 0.5*k2_r3_x, R2[i] + 0.5*k2_r3_y, m1, m2)\n",
    "\n",
    "        k4_r3_x = h * (V3[i][0] + l3_r3[0])\n",
    "        k4_r3_y = h * (V3[i][1] + l3_r3[1])\n",
    "        k4_r3_z = h * (V3[i][2] + l3_r3[2])\n",
    "\n",
    "        l4_r3 = h * f(R3[i] + k3_r3_z, R1[i] + k3_r3_x, R2[i] + k3_r3_y, m1, m2)\n",
    "\n",
    "        # Runge-Kutta's step:\n",
    "        \n",
    "        # Position:\n",
    "        x = R1[i][0] + (k1_r1_x + 2*k2_r1_x + 2*k3_r1_x + k4_r1_x)/6.\n",
    "        y = R1[i][1] + (k1_r1_y + 2*k2_r1_y + 2*k3_r1_y + k4_r1_y)/6.\n",
    "        z = R1[i][2] + (k1_r1_z + 2*k2_r1_z + 2*k3_r1_z + k4_r1_z)/6.\n",
    "        if i > 0:\n",
    "            R1.append(np.array([x, y, z]) + R1[i-1])\n",
    "        else:\n",
    "            R1.append(np.array([x, y, z]))\n",
    "        x = R2[i][0] + (k1_r2_x + 2*k2_r2_x + 2*k3_r2_x + k4_r2_x)/6.\n",
    "        y = R2[i][1] + (k1_r2_y + 2*k2_r2_y + 2*k3_r2_y + k4_r2_y)/6.\n",
    "        z = R2[i][2] + (k1_r2_z + 2*k2_r2_z + 2*k3_r2_z + k4_r2_z)/6.\n",
    "        if i > 0:\n",
    "            R2.append(np.array([x, y, z]) + R2[i-1])\n",
    "        else:\n",
    "            R2.append(np.array([x, y, z]))\n",
    "        x = R3[i][0] + (k1_r3_x + 2*k2_r3_x + 2*k3_r3_x + k4_r3_x)/6.\n",
    "        y = R3[i][1] + (k1_r3_y + 2*k2_r3_y + 2*k3_r3_y + k4_r3_y)/6.\n",
    "        z = R3[i][2] + (k1_r3_z + 2*k2_r3_z + 2*k3_r3_z + k4_r3_z)/6.\n",
    "        if i > 0:\n",
    "            R3.append(np.array([x, y, z]) + R3[i-1])\n",
    "        else:\n",
    "            R3.append(np.array([x, y, z]))\n",
    "        \n",
    "        # Velocity:\n",
    "        vx = V1[i][0] + (l1_r1[0] + 2*l2_r1[0] + 2*l3_r1[0] + l4_r1[0])/6.\n",
    "        vy = V1[i][1] + (l1_r1[1] + 2*l2_r1[1] + 2*l3_r1[1] + l4_r1[1])/6.\n",
    "        vz = V1[i][2] + (l1_r1[2] + 2*l2_r1[2] + 2*l3_r1[2] + l4_r1[2])/6.\n",
    "        if i > 0:\n",
    "            V1.append(np.array([x, y, z]) + V1[i-1])\n",
    "        else:\n",
    "            V1.append(np.array([x, y, z]))\n",
    "        vx = V2[i][0] + (l1_r2[0] + 2*l2_r2[0] + 2*l3_r2[0] + l4_r2[0])/6.\n",
    "        vy = V2[i][1] + (l1_r2[1] + 2*l2_r2[1] + 2*l3_r2[1] + l4_r2[1])/6.\n",
    "        vz = V2[i][2] + (l1_r2[2] + 2*l2_r2[2] + 2*l3_r2[2] + l4_r2[2])/6.\n",
    "        if i > 0:\n",
    "            V2.append(np.array([x, y, z]) + V2[i-1])\n",
    "        else:\n",
    "            V2.append(np.array([x, y, z]))\n",
    "        vx = V3[i][0] + (l1_r3[0] + 2*l2_r3[0] + 2*l3_r3[0] + l4_r3[0])/6.\n",
    "        vy = V3[i][1] + (l1_r3[1] + 2*l2_r3[1] + 2*l3_r3[1] + l4_r3[1])/6.\n",
    "        vz = V3[i][2] + (l1_r3[2] + 2*l2_r3[2] + 2*l3_r3[2] + l4_r3[2])/6.\n",
    "        if i > 0:\n",
    "            V3.append(np.array([x, y, z]) + V3[i-1])\n",
    "        else:\n",
    "            V3.append(np.array([x, y, z]))\n",
    "    \n",
    "    R = np.array([np.array(R1), np.array(R2), np.array(R3)])\n",
    "    V = np.array([np.array(V1), np.array(V2), np.array(V3)])\n",
    "    return R, V"
   ]
  },
  {
   "cell_type": "code",
   "execution_count": 50,
   "metadata": {
    "collapsed": false
   },
   "outputs": [
    {
     "name": "stderr",
     "output_type": "stream",
     "text": [
      "/Users/RodolfoFerro/anaconda/lib/python3.5/site-packages/ipykernel/__main__.py:2: RuntimeWarning: invalid value encountered in true_divide\n",
      "  from ipykernel import kernelapp as app\n"
     ]
    }
   ],
   "source": [
    "R, V = Runge_Kutta(f, r, v)"
   ]
  },
  {
   "cell_type": "code",
   "execution_count": 51,
   "metadata": {
    "collapsed": false
   },
   "outputs": [
    {
     "data": {
      "image/png": "[encoded data removed]",
      "text/plain": [
       "<matplotlib.figure.Figure at 0x110d08320>"
      ]
     },
     "metadata": {},
     "output_type": "display_data"
    }
   ],
   "source": [
    "from mpl_toolkits.mplot3d import Axes3D\n",
    "fig = plt.figure()\n",
    "ax = fig.add_subplot(111, projection='3d')\n",
    "ax.plot(R[0,:,0], R[0,:,1], R[0,:,2], label='Object 1')\n",
    "ax.plot(R[1,:,0], R[1,:,1], R[1,:,2], label='Object 2')\n",
    "ax.plot(R[2,:,0], R[2,:,1], R[2,:,2], label='Object 3')\n",
    "ax.legend()\n",
    "plt.show()"
   ]
  },
  {
   "cell_type": "code",
   "execution_count": 31,
   "metadata": {
    "collapsed": false
   },
   "outputs": [],
   "source": [
    "r1 = open(\"obj1.txt\", \"w\")\n",
    "for i in range(len(R[0])):\n",
    "    r1.write(str(R[0,i,0]) + \" \" + str(R[0,i,1]) + \" \" + str(R[0,i,2]) + \"\\n\")\n",
    "r1.close()\n",
    "r2 = open(\"obj2.txt\", \"w\")\n",
    "for i in range(len(R[1])):\n",
    "    r2.write(str(R[1,i,0]) + \" \" + str(R[1,i,1]) + \" \" + str(R[1,i,2]) + \"\\n\")\n",
    "r2.close()\n",
    "r3 = open(\"obj3.txt\", \"w\")\n",
    "for i in range(len(R[2])):\n",
    "    r3.write(str(R[2,i,0]) + \" \" + str(R[2,i,1]) + \" \" + str(R[2,i,2]) + \"\\n\")\n",
    "r3.close()"
   ]
  },
  {
   "cell_type": "code",
   "execution_count": 56,
   "metadata": {
    "collapsed": false
   },
   "outputs": [
    {
     "data": {
      "text/plain": [
       "[<matplotlib.lines.Line2D at 0x11202b710>]"
      ]
     },
     "execution_count": 56,
     "metadata": {},
     "output_type": "execute_result"
    },
    {
     "data": {
      "image/png": "[encoded data removed]",
      "text/plain": [
       "<matplotlib.figure.Figure at 0x11202b748>"
      ]
     },
     "metadata": {},
     "output_type": "display_data"
    }
   ],
   "source": [
    "plt.plot(R[0,:,0], R[1,:,1], \"-ob\")\n",
    "plt.plot(R[0,:,0], R[1,:,1], \"-or\")\n",
    "#plt.plot(R[2,:,0], R[2,:,1], \"-og\")"
   ]
  },
  {
   "cell_type": "code",
   "execution_count": null,
   "metadata": {
    "collapsed": true
   },
   "outputs": [],
   "source": []
  }
 ],
 "metadata": {
  "kernelspec": {
   "display_name": "Python [Root]",
   "language": "python",
   "name": "Python [Root]"
  },
  "language_info": {
   "codemirror_mode": {
    "name": "ipython",
    "version": 3
   },
   "file_extension": ".py",
   "mimetype": "text/x-python",
   "name": "python",
   "nbconvert_exporter": "python",
   "pygments_lexer": "ipython3",
   "version": "3.5.2"
  }
 },
 "nbformat": 4,
 "nbformat_minor": 0
}
