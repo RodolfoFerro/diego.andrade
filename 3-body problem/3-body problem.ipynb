{
 "cells": [
  {
   "cell_type": "code",
   "execution_count": null,
   "metadata": {
    "collapsed": false
   },
   "outputs": [],
   "source": [
    "from vpython import *\n",
    "import math\n",
    "scene.width  = 700\n",
    "scene.height = 600\n",
    "scene.title  = '3-Body Problem'\n",
    "scene.autoscale = False\n",
    "scene.fullscreen = False"
   ]
  },
  {
   "cell_type": "code",
   "execution_count": null,
   "metadata": {
    "collapsed": true
   },
   "outputs": [],
   "source": [
    "# PARAMETERS\n",
    "\n",
    "# Masses\n",
    "m1 = 3 \n",
    "m2 = 3\n",
    "m3 = 3\n",
    "\n",
    "e1 = 0.1 #Escale factor\n",
    "e2 = 0.3 #Escale factor\n",
    "e3 = 0.1 #Escale factor\n",
    "\n",
    "# The radius as a funtion of mass (volume)\n",
    "r1 = pow(m1, 1/3)*e1 \n",
    "r2 = pow(m2, 1/3)*e2\n",
    "r3 = pow(m3, 1/3)*e3\n",
    "G  = 3\n",
    "dt = 0.01\n",
    "\n",
    "# Initial positions\n",
    "pos1 = vector(-2, 0, 0) #red ball\n",
    "pos2 = vector(0, 0, 0) #green ball\n",
    "pos3 = vector(2, 0, 0) #blue ball\n",
    "\n",
    "# Velocitats inicials\n",
    "v1 = vector(0, 0, 1.5) #red\n",
    "v2 = vector(0, 1.5, 0) #green\n",
    "v3 = vector(0, 0, -1.5) #blue"
   ]
  },
  {
   "cell_type": "code",
   "execution_count": null,
   "metadata": {
    "collapsed": false
   },
   "outputs": [],
   "source": [
    "# DRAWING\n",
    "P1 = sphere(pos = pos1, radius = r1, color = color.red, texture=textures.stucco, shininess = 0)\n",
    "P2 = sphere(pos = pos2, radius = r2, color = color.white, texture=textures.earth, shininess = 0)\n",
    "P3 = sphere(pos = pos3, radius = r3, color = color.orange, texture=textures.stucco, shininess = 0)\n",
    "P1.trail = curve(color = P1.color, shininess = 0)\n",
    "P2.trail = curve(color = P2.color, shininess = 0)\n",
    "P3.trail = curve(color = P3.color, shininess = 0)"
   ]
  },
  {
   "cell_type": "code",
   "execution_count": null,
   "metadata": {
    "collapsed": true
   },
   "outputs": [],
   "source": [
    "# MOVEMENT\n",
    "# Defining an acceleration function:\n",
    "def grav(p, p_m, m):\n",
    "    r = p - p_m\n",
    "    r_mag = mag(r)\n",
    "    r_norm = norm(r)\n",
    "    a = (-G*m / (r_mag**2)) * r_norm\n",
    "    return a"
   ]
  },
  {
   "cell_type": "code",
   "execution_count": null,
   "metadata": {
    "collapsed": false
   },
   "outputs": [],
   "source": [
    "# Computing\n",
    "while True:\n",
    "    rate(60)\n",
    "    # P1\n",
    "    a1  = grav(P1.pos, P2.pos, m2) + grav(P1.pos, P3.pos, m3)\n",
    "    dv1 = a1*dt\n",
    "    v1  = v1 + dv1\n",
    "    dp1 = v1*dt\n",
    "    \n",
    "    # P2\n",
    "    a2  = grav(P2.pos, P1.pos, m1) + grav(P2.pos, P3.pos, m3)\n",
    "    dv2 = a2*dt\n",
    "    v2  = v2 + dv2\n",
    "    dp2 = v2*dt\n",
    "    \n",
    "    # P3\n",
    "    a3  = grav(P3.pos, P2.pos, m2) + grav(P3.pos, P1.pos, m1)\n",
    "    dv3 = a3*dt\n",
    "    v3  = v3 + dv3\n",
    "    dp3 = v3*dt\n",
    "    \n",
    "    # Updating positions\n",
    "    P1.pos = P1.pos + dp1\n",
    "    P1.trail.append(pos=P1.pos)\n",
    "    P2.pos = P2.pos + dp2\n",
    "    P2.trail.append(pos=P2.pos)\n",
    "    P3.pos = P3.pos + dp3\n",
    "    P3.trail.append(pos=P3.pos)\n",
    "    scene.center = P2.pos\n",
    "    \n",
    "    # Collision condition\n",
    "    if mag(P1.pos-P2.pos)<(r1+r2) or mag(P1.pos-P3.pos)<(r1+r3) or (mag(P3.pos-P2.pos)<(r3+r2)):\n",
    "        print(\"Collision !?\")\n",
    "        break\n"
   ]
  },
  {
   "cell_type": "code",
   "execution_count": null,
   "metadata": {
    "collapsed": true
   },
   "outputs": [],
   "source": []
  }
 ],
 "metadata": {
  "kernelspec": {
   "display_name": "VPython",
   "language": "python",
   "name": "vpython"
  },
  "language_info": {
   "codemirror_mode": {
    "name": "ipython",
    "version": 3
   },
   "file_extension": ".py",
   "mimetype": "text/x-python",
   "name": "python",
   "nbconvert_exporter": "python",
   "pygments_lexer": "ipython3",
   "version": "3.5.2"
  }
 },
 "nbformat": 4,
 "nbformat_minor": 0
}
